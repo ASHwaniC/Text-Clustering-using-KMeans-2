{
 "cells": [
  {
   "cell_type": "markdown",
   "metadata": {},
   "source": [
    "#  Import Libraries"
   ]
  },
  {
   "cell_type": "code",
   "execution_count": 163,
   "metadata": {
    "collapsed": true
   },
   "outputs": [],
   "source": [
    "import pandas as pd\n",
    "import numpy as np\n",
    "import matplotlib as mpl\n",
    "import matplotlib.pyplot as plt\n",
    "import seaborn as sns\n",
    "%matplotlib inline"
   ]
  },
  {
   "cell_type": "code",
   "execution_count": 164,
   "metadata": {},
   "outputs": [
    {
     "name": "stdout",
     "output_type": "stream",
     "text": [
      "(11046, 5)\n",
      "<type 'unicode'>\n"
     ]
    },
    {
     "data": {
      "text/html": [
       "<div>\n",
       "<style>\n",
       "    .dataframe thead tr:only-child th {\n",
       "        text-align: right;\n",
       "    }\n",
       "\n",
       "    .dataframe thead th {\n",
       "        text-align: left;\n",
       "    }\n",
       "\n",
       "    .dataframe tbody tr th {\n",
       "        vertical-align: top;\n",
       "    }\n",
       "</style>\n",
       "<table border=\"1\" class=\"dataframe\">\n",
       "  <thead>\n",
       "    <tr style=\"text-align: right;\">\n",
       "      <th></th>\n",
       "      <th>Material No</th>\n",
       "      <th>Material Type</th>\n",
       "      <th>Material Group</th>\n",
       "      <th>PO Short Text</th>\n",
       "      <th>PO Text</th>\n",
       "    </tr>\n",
       "  </thead>\n",
       "  <tbody>\n",
       "    <tr>\n",
       "      <th>0</th>\n",
       "      <td>0005A0001</td>\n",
       "      <td>HIBE</td>\n",
       "      <td>301.0</td>\n",
       "      <td>FLUXES FOR WELDING WIRE MS STRUCTURAL</td>\n",
       "      <td>Short Description\\nFLUXES FOR WELDING WIRE MS ...</td>\n",
       "    </tr>\n",
       "    <tr>\n",
       "      <th>1</th>\n",
       "      <td>0005A0002</td>\n",
       "      <td>HIBE</td>\n",
       "      <td>301.0</td>\n",
       "      <td>FLUXES FOR WELDING WIRE SS</td>\n",
       "      <td>Short Description :\\nFLUXES FOR WELDING WIRE S...</td>\n",
       "    </tr>\n",
       "    <tr>\n",
       "      <th>2</th>\n",
       "      <td>0005A0003</td>\n",
       "      <td>HIBE</td>\n",
       "      <td>301.0</td>\n",
       "      <td>FLUXES FOR WELDING/BRAZING/SOLDERING</td>\n",
       "      <td>Short Description :\\nFLUXES FOR WELDING/BRAZIN...</td>\n",
       "    </tr>\n",
       "    <tr>\n",
       "      <th>3</th>\n",
       "      <td>0005A0004</td>\n",
       "      <td>HIBE</td>\n",
       "      <td>301.0</td>\n",
       "      <td>FLUXES FOR WELDING/BRAZING/SOLDERING</td>\n",
       "      <td>Short Description :\\nFLUXES FOR WELDING/BRAZIN...</td>\n",
       "    </tr>\n",
       "    <tr>\n",
       "      <th>4</th>\n",
       "      <td>0005A0005</td>\n",
       "      <td>HIBE</td>\n",
       "      <td>301.0</td>\n",
       "      <td>FLUXES FOR WELDING/BRAZING/SOLDERING</td>\n",
       "      <td>Short Description :\\nFLUXES FOR WELDING/BRAZIN...</td>\n",
       "    </tr>\n",
       "  </tbody>\n",
       "</table>\n",
       "</div>"
      ],
      "text/plain": [
       "  Material No Material Type  Material Group  \\\n",
       "0   0005A0001          HIBE           301.0   \n",
       "1   0005A0002          HIBE           301.0   \n",
       "2   0005A0003          HIBE           301.0   \n",
       "3   0005A0004          HIBE           301.0   \n",
       "4   0005A0005          HIBE           301.0   \n",
       "\n",
       "                           PO Short Text  \\\n",
       "0  FLUXES FOR WELDING WIRE MS STRUCTURAL   \n",
       "1             FLUXES FOR WELDING WIRE SS   \n",
       "2   FLUXES FOR WELDING/BRAZING/SOLDERING   \n",
       "3   FLUXES FOR WELDING/BRAZING/SOLDERING   \n",
       "4   FLUXES FOR WELDING/BRAZING/SOLDERING   \n",
       "\n",
       "                                             PO Text  \n",
       "0  Short Description\\nFLUXES FOR WELDING WIRE MS ...  \n",
       "1  Short Description :\\nFLUXES FOR WELDING WIRE S...  \n",
       "2  Short Description :\\nFLUXES FOR WELDING/BRAZIN...  \n",
       "3  Short Description :\\nFLUXES FOR WELDING/BRAZIN...  \n",
       "4  Short Description :\\nFLUXES FOR WELDING/BRAZIN...  "
      ]
     },
     "execution_count": 164,
     "metadata": {},
     "output_type": "execute_result"
    }
   ],
   "source": [
    "df=pd.read_excel('UMC Text.xlsx')\n",
    "print(df.shape)\n",
    "print (type(df['PO Short Text'][0]))\n",
    "df.head()"
   ]
  },
  {
   "cell_type": "code",
   "execution_count": 165,
   "metadata": {},
   "outputs": [
    {
     "name": "stdout",
     "output_type": "stream",
     "text": [
      "Index([u'Material No', u'Material Type', u'Material Group', u'PO Short Text',\n",
      "       u'PO Text'],\n",
      "      dtype='object')\n"
     ]
    }
   ],
   "source": [
    "print(df.columns)"
   ]
  },
  {
   "cell_type": "code",
   "execution_count": 166,
   "metadata": {},
   "outputs": [],
   "source": [
    "x=df['PO Short Text']"
   ]
  },
  {
   "cell_type": "code",
   "execution_count": 31,
   "metadata": {},
   "outputs": [
    {
     "data": {
      "text/plain": [
       "(0, 5)"
      ]
     },
     "execution_count": 31,
     "metadata": {},
     "output_type": "execute_result"
    }
   ],
   "source": [
    "df0= df[df['PO Short Text'] == 'NOT TO BE USED']\n",
    "df0.shape"
   ]
  },
  {
   "cell_type": "code",
   "execution_count": 33,
   "metadata": {
    "collapsed": true
   },
   "outputs": [],
   "source": [
    "stopwords= nltk.corpus.stopwords.words('english')"
   ]
  },
  {
   "cell_type": "markdown",
   "metadata": {},
   "source": [
    "## Stemming and Lemmatization"
   ]
  },
  {
   "cell_type": "code",
   "execution_count": 34,
   "metadata": {
    "collapsed": true
   },
   "outputs": [],
   "source": [
    "from nltk import word_tokenize\n",
    "import re\n",
    "import string\n",
    "punch=set(string.punctuation)"
   ]
  },
  {
   "cell_type": "code",
   "execution_count": 48,
   "metadata": {
    "collapsed": true
   },
   "outputs": [],
   "source": [
    "def clean(text):\n",
    "    text=text.lower()\n",
    "    text=re.sub(r'[^a-zA-Z]',\" \",text)\n",
    "    text=\"\".join([i for i in text if i not in punch])\n",
    "    stopfree = \" \".join([i for i in text.split() if (len(i)>1 and i not in stopwords)])\n",
    "    return stopfree.split()\n"
   ]
  },
  {
   "cell_type": "markdown",
   "metadata": {},
   "source": [
    "# Tf-idf Vectorizer"
   ]
  },
  {
   "cell_type": "code",
   "execution_count": 114,
   "metadata": {},
   "outputs": [],
   "source": [
    "from sklearn.feature_extraction.text import TfidfVectorizer\n",
    "vectorizer = TfidfVectorizer(max_df=1.0,\n",
    "                             min_df=0.0,\n",
    "                             tokenizer=clean,\n",
    "                             lowercase=False)\n",
    "Tfidf_matrix = vectorizer.fit_transform(x.values.astype('U'))"
   ]
  },
  {
   "cell_type": "markdown",
   "metadata": {},
   "source": [
    "# Count  Vectorizer"
   ]
  },
  {
   "cell_type": "code",
   "execution_count": 115,
   "metadata": {
    "scrolled": false
   },
   "outputs": [],
   "source": [
    "from sklearn.feature_extraction.text import CountVectorizer\n",
    "Vectorizer = CountVectorizer(max_df=1.0,\n",
    "                             min_df=0.0,\n",
    "                             tokenizer=clean,\n",
    "                             lowercase=False)\n",
    "Tfidf_matrix_1 = Vectorizer.fit_transform(x.values.astype('U'))"
   ]
  },
  {
   "cell_type": "markdown",
   "metadata": {},
   "source": [
    "# Hashing Vectorizer"
   ]
  },
  {
   "cell_type": "code",
   "execution_count": 116,
   "metadata": {},
   "outputs": [],
   "source": [
    "from sklearn.feature_extraction.text import HashingVectorizer\n",
    "Vectorizer = HashingVectorizer(ngram_range=(0,1),\n",
    "                               tokenizer=clean,\n",
    "                               lowercase=False)\n",
    "Tfidf_matrix_2 = Vectorizer.fit_transform(x.values.astype('U'))"
   ]
  },
  {
   "cell_type": "markdown",
   "metadata": {},
   "source": [
    "# KMeans Clustering"
   ]
  },
  {
   "cell_type": "code",
   "execution_count": 155,
   "metadata": {},
   "outputs": [
    {
     "data": {
      "text/plain": [
       "array([[ 0.,  0.,  0., ...,  0.,  0.,  0.],\n",
       "       [ 0.,  0.,  0., ...,  0.,  0.,  0.],\n",
       "       [ 0.,  0.,  0., ...,  0.,  0.,  0.],\n",
       "       [ 0.,  0.,  0., ...,  0.,  0.,  0.]])"
      ]
     },
     "execution_count": 155,
     "metadata": {},
     "output_type": "execute_result"
    }
   ],
   "source": [
    "from sklearn.cluster import KMeans\n",
    "model = KMeans(n_clusters=4,\n",
    "               max_iter=300,\n",
    "               tol=0.001,\n",
    "               algorithm='auto')\n",
    "model.fit(Tfidf_matrix_2)\n",
    "labels = model.predict(Tfidf_matrix_2)\n",
    "model.cluster_centers_\n",
    "#print (model)\n",
    "#print (Tfidf_matrix)\n",
    "#print (x)"
   ]
  },
  {
   "cell_type": "code",
   "execution_count": 156,
   "metadata": {},
   "outputs": [
    {
     "data": {
      "text/plain": [
       "0.084822895401850992"
      ]
     },
     "execution_count": 156,
     "metadata": {},
     "output_type": "execute_result"
    }
   ],
   "source": [
    "import sklearn\n",
    "sklearn.metrics.silhouette_score(Tfidf_matrix_2, labels, metric='euclidean', sample_size=None, random_state=None)"
   ]
  },
  {
   "cell_type": "code",
   "execution_count": 157,
   "metadata": {
    "collapsed": true
   },
   "outputs": [],
   "source": [
    "df['Labels'] = labels"
   ]
  },
  {
   "cell_type": "code",
   "execution_count": 158,
   "metadata": {},
   "outputs": [
    {
     "data": {
      "text/html": [
       "<div>\n",
       "<style>\n",
       "    .dataframe thead tr:only-child th {\n",
       "        text-align: right;\n",
       "    }\n",
       "\n",
       "    .dataframe thead th {\n",
       "        text-align: left;\n",
       "    }\n",
       "\n",
       "    .dataframe tbody tr th {\n",
       "        vertical-align: top;\n",
       "    }\n",
       "</style>\n",
       "<table border=\"1\" class=\"dataframe\">\n",
       "  <thead>\n",
       "    <tr style=\"text-align: right;\">\n",
       "      <th></th>\n",
       "      <th>Material No</th>\n",
       "      <th>Material Type</th>\n",
       "      <th>Material Group</th>\n",
       "      <th>PO Short Text</th>\n",
       "      <th>PO Text</th>\n",
       "      <th>Labels</th>\n",
       "    </tr>\n",
       "  </thead>\n",
       "  <tbody>\n",
       "    <tr>\n",
       "      <th>0</th>\n",
       "      <td>0005A0001</td>\n",
       "      <td>HIBE</td>\n",
       "      <td>301.0</td>\n",
       "      <td>FLUXES FOR WELDING WIRE MS STRUCTURAL</td>\n",
       "      <td>Short Description\\nFLUXES FOR WELDING WIRE MS ...</td>\n",
       "      <td>0</td>\n",
       "    </tr>\n",
       "    <tr>\n",
       "      <th>1</th>\n",
       "      <td>0005A0002</td>\n",
       "      <td>HIBE</td>\n",
       "      <td>301.0</td>\n",
       "      <td>FLUXES FOR WELDING WIRE SS</td>\n",
       "      <td>Short Description :\\nFLUXES FOR WELDING WIRE S...</td>\n",
       "      <td>0</td>\n",
       "    </tr>\n",
       "    <tr>\n",
       "      <th>2</th>\n",
       "      <td>0005A0003</td>\n",
       "      <td>HIBE</td>\n",
       "      <td>301.0</td>\n",
       "      <td>FLUXES FOR WELDING/BRAZING/SOLDERING</td>\n",
       "      <td>Short Description :\\nFLUXES FOR WELDING/BRAZIN...</td>\n",
       "      <td>0</td>\n",
       "    </tr>\n",
       "    <tr>\n",
       "      <th>3</th>\n",
       "      <td>0005A0004</td>\n",
       "      <td>HIBE</td>\n",
       "      <td>301.0</td>\n",
       "      <td>FLUXES FOR WELDING/BRAZING/SOLDERING</td>\n",
       "      <td>Short Description :\\nFLUXES FOR WELDING/BRAZIN...</td>\n",
       "      <td>0</td>\n",
       "    </tr>\n",
       "    <tr>\n",
       "      <th>4</th>\n",
       "      <td>0005A0005</td>\n",
       "      <td>HIBE</td>\n",
       "      <td>301.0</td>\n",
       "      <td>FLUXES FOR WELDING/BRAZING/SOLDERING</td>\n",
       "      <td>Short Description :\\nFLUXES FOR WELDING/BRAZIN...</td>\n",
       "      <td>0</td>\n",
       "    </tr>\n",
       "  </tbody>\n",
       "</table>\n",
       "</div>"
      ],
      "text/plain": [
       "  Material No Material Type  Material Group  \\\n",
       "0   0005A0001          HIBE           301.0   \n",
       "1   0005A0002          HIBE           301.0   \n",
       "2   0005A0003          HIBE           301.0   \n",
       "3   0005A0004          HIBE           301.0   \n",
       "4   0005A0005          HIBE           301.0   \n",
       "\n",
       "                           PO Short Text  \\\n",
       "0  FLUXES FOR WELDING WIRE MS STRUCTURAL   \n",
       "1             FLUXES FOR WELDING WIRE SS   \n",
       "2   FLUXES FOR WELDING/BRAZING/SOLDERING   \n",
       "3   FLUXES FOR WELDING/BRAZING/SOLDERING   \n",
       "4   FLUXES FOR WELDING/BRAZING/SOLDERING   \n",
       "\n",
       "                                             PO Text  Labels  \n",
       "0  Short Description\\nFLUXES FOR WELDING WIRE MS ...       0  \n",
       "1  Short Description :\\nFLUXES FOR WELDING WIRE S...       0  \n",
       "2  Short Description :\\nFLUXES FOR WELDING/BRAZIN...       0  \n",
       "3  Short Description :\\nFLUXES FOR WELDING/BRAZIN...       0  \n",
       "4  Short Description :\\nFLUXES FOR WELDING/BRAZIN...       0  "
      ]
     },
     "execution_count": 158,
     "metadata": {},
     "output_type": "execute_result"
    }
   ],
   "source": [
    "df.head()"
   ]
  },
  {
   "cell_type": "code",
   "execution_count": 159,
   "metadata": {
    "collapsed": true
   },
   "outputs": [],
   "source": [
    "df0=df[df['Labels']==0]\n",
    "df1=df[df['Labels']==1]\n",
    "df2=df[df['Labels']==2]\n",
    "df3=df[df['Labels']==3]\n",
    "df4=df[df['Labels']==4]"
   ]
  },
  {
   "cell_type": "code",
   "execution_count": 160,
   "metadata": {},
   "outputs": [
    {
     "data": {
      "text/plain": [
       "((5947, 6), (1174, 6), (2967, 6), (958, 6), (0, 6))"
      ]
     },
     "execution_count": 160,
     "metadata": {},
     "output_type": "execute_result"
    }
   ],
   "source": [
    "df0.shape, df1.shape, df2.shape, df3.shape, df4.shape"
   ]
  },
  {
   "cell_type": "code",
   "execution_count": 161,
   "metadata": {},
   "outputs": [
    {
     "data": {
      "text/html": [
       "<div>\n",
       "<style>\n",
       "    .dataframe thead tr:only-child th {\n",
       "        text-align: right;\n",
       "    }\n",
       "\n",
       "    .dataframe thead th {\n",
       "        text-align: left;\n",
       "    }\n",
       "\n",
       "    .dataframe tbody tr th {\n",
       "        vertical-align: top;\n",
       "    }\n",
       "</style>\n",
       "<table border=\"1\" class=\"dataframe\">\n",
       "  <thead>\n",
       "    <tr style=\"text-align: right;\">\n",
       "      <th></th>\n",
       "      <th>Material No</th>\n",
       "      <th>Material Type</th>\n",
       "      <th>Material Group</th>\n",
       "      <th>PO Short Text</th>\n",
       "      <th>PO Text</th>\n",
       "      <th>Labels</th>\n",
       "    </tr>\n",
       "  </thead>\n",
       "  <tbody>\n",
       "    <tr>\n",
       "      <th>0</th>\n",
       "      <td>0005A0001</td>\n",
       "      <td>HIBE</td>\n",
       "      <td>301.0</td>\n",
       "      <td>FLUXES FOR WELDING WIRE MS STRUCTURAL</td>\n",
       "      <td>Short Description\\nFLUXES FOR WELDING WIRE MS ...</td>\n",
       "      <td>0</td>\n",
       "    </tr>\n",
       "    <tr>\n",
       "      <th>1</th>\n",
       "      <td>0005A0002</td>\n",
       "      <td>HIBE</td>\n",
       "      <td>301.0</td>\n",
       "      <td>FLUXES FOR WELDING WIRE SS</td>\n",
       "      <td>Short Description :\\nFLUXES FOR WELDING WIRE S...</td>\n",
       "      <td>0</td>\n",
       "    </tr>\n",
       "    <tr>\n",
       "      <th>2</th>\n",
       "      <td>0005A0003</td>\n",
       "      <td>HIBE</td>\n",
       "      <td>301.0</td>\n",
       "      <td>FLUXES FOR WELDING/BRAZING/SOLDERING</td>\n",
       "      <td>Short Description :\\nFLUXES FOR WELDING/BRAZIN...</td>\n",
       "      <td>0</td>\n",
       "    </tr>\n",
       "    <tr>\n",
       "      <th>3</th>\n",
       "      <td>0005A0004</td>\n",
       "      <td>HIBE</td>\n",
       "      <td>301.0</td>\n",
       "      <td>FLUXES FOR WELDING/BRAZING/SOLDERING</td>\n",
       "      <td>Short Description :\\nFLUXES FOR WELDING/BRAZIN...</td>\n",
       "      <td>0</td>\n",
       "    </tr>\n",
       "    <tr>\n",
       "      <th>4</th>\n",
       "      <td>0005A0005</td>\n",
       "      <td>HIBE</td>\n",
       "      <td>301.0</td>\n",
       "      <td>FLUXES FOR WELDING/BRAZING/SOLDERING</td>\n",
       "      <td>Short Description :\\nFLUXES FOR WELDING/BRAZIN...</td>\n",
       "      <td>0</td>\n",
       "    </tr>\n",
       "  </tbody>\n",
       "</table>\n",
       "</div>"
      ],
      "text/plain": [
       "  Material No Material Type  Material Group  \\\n",
       "0   0005A0001          HIBE           301.0   \n",
       "1   0005A0002          HIBE           301.0   \n",
       "2   0005A0003          HIBE           301.0   \n",
       "3   0005A0004          HIBE           301.0   \n",
       "4   0005A0005          HIBE           301.0   \n",
       "\n",
       "                           PO Short Text  \\\n",
       "0  FLUXES FOR WELDING WIRE MS STRUCTURAL   \n",
       "1             FLUXES FOR WELDING WIRE SS   \n",
       "2   FLUXES FOR WELDING/BRAZING/SOLDERING   \n",
       "3   FLUXES FOR WELDING/BRAZING/SOLDERING   \n",
       "4   FLUXES FOR WELDING/BRAZING/SOLDERING   \n",
       "\n",
       "                                             PO Text  Labels  \n",
       "0  Short Description\\nFLUXES FOR WELDING WIRE MS ...       0  \n",
       "1  Short Description :\\nFLUXES FOR WELDING WIRE S...       0  \n",
       "2  Short Description :\\nFLUXES FOR WELDING/BRAZIN...       0  \n",
       "3  Short Description :\\nFLUXES FOR WELDING/BRAZIN...       0  \n",
       "4  Short Description :\\nFLUXES FOR WELDING/BRAZIN...       0  "
      ]
     },
     "execution_count": 161,
     "metadata": {},
     "output_type": "execute_result"
    }
   ],
   "source": [
    "df0.head()"
   ]
  },
  {
   "cell_type": "code",
   "execution_count": 145,
   "metadata": {},
   "outputs": [
    {
     "data": {
      "text/html": [
       "<div>\n",
       "<style>\n",
       "    .dataframe thead tr:only-child th {\n",
       "        text-align: right;\n",
       "    }\n",
       "\n",
       "    .dataframe thead th {\n",
       "        text-align: left;\n",
       "    }\n",
       "\n",
       "    .dataframe tbody tr th {\n",
       "        vertical-align: top;\n",
       "    }\n",
       "</style>\n",
       "<table border=\"1\" class=\"dataframe\">\n",
       "  <thead>\n",
       "    <tr style=\"text-align: right;\">\n",
       "      <th></th>\n",
       "      <th>Material No</th>\n",
       "      <th>Material Type</th>\n",
       "      <th>Material Group</th>\n",
       "      <th>PO Short Text</th>\n",
       "      <th>PO Text</th>\n",
       "      <th>Labels</th>\n",
       "    </tr>\n",
       "  </thead>\n",
       "  <tbody>\n",
       "    <tr>\n",
       "      <th>1101</th>\n",
       "      <td>0152SS269</td>\n",
       "      <td>HIBE</td>\n",
       "      <td>280.0</td>\n",
       "      <td>HYDRANT HOSE</td>\n",
       "      <td>NaN</td>\n",
       "      <td>1</td>\n",
       "    </tr>\n",
       "    <tr>\n",
       "      <th>1111</th>\n",
       "      <td>0152SS280</td>\n",
       "      <td>HIBE</td>\n",
       "      <td>280.0</td>\n",
       "      <td>GREASE PUMP FOR 185 KG BARREL WITH HOSE</td>\n",
       "      <td>NaN</td>\n",
       "      <td>1</td>\n",
       "    </tr>\n",
       "    <tr>\n",
       "      <th>5979</th>\n",
       "      <td>0425WA088</td>\n",
       "      <td>HIBE</td>\n",
       "      <td>254.0</td>\n",
       "      <td>HYD HOSE,TYP:4C2AT(G2),1/4\"NBX500,FITING</td>\n",
       "      <td>*Short Description*\\nHYD HOSE,TYP:4C2AT(G2),1/...</td>\n",
       "      <td>1</td>\n",
       "    </tr>\n",
       "    <tr>\n",
       "      <th>6847</th>\n",
       "      <td>0427A1291</td>\n",
       "      <td>ERSA</td>\n",
       "      <td>301.0</td>\n",
       "      <td>ACET RED HOSE MESSERS</td>\n",
       "      <td>Short Description :\\nACET RED HOSE MESSERS\\n==...</td>\n",
       "      <td>1</td>\n",
       "    </tr>\n",
       "    <tr>\n",
       "      <th>7408</th>\n",
       "      <td>0427A1917</td>\n",
       "      <td>ERSA</td>\n",
       "      <td>301.0</td>\n",
       "      <td>FUEL INLET HOSE 18'' - ID 50MM</td>\n",
       "      <td>Short Description :\\nFUEL INLET HOSE 18'' - ID...</td>\n",
       "      <td>1</td>\n",
       "    </tr>\n",
       "  </tbody>\n",
       "</table>\n",
       "</div>"
      ],
      "text/plain": [
       "     Material No Material Type  Material Group  \\\n",
       "1101   0152SS269          HIBE           280.0   \n",
       "1111   0152SS280          HIBE           280.0   \n",
       "5979   0425WA088          HIBE           254.0   \n",
       "6847   0427A1291          ERSA           301.0   \n",
       "7408   0427A1917          ERSA           301.0   \n",
       "\n",
       "                                 PO Short Text  \\\n",
       "1101                              HYDRANT HOSE   \n",
       "1111   GREASE PUMP FOR 185 KG BARREL WITH HOSE   \n",
       "5979  HYD HOSE,TYP:4C2AT(G2),1/4\"NBX500,FITING   \n",
       "6847                     ACET RED HOSE MESSERS   \n",
       "7408            FUEL INLET HOSE 18'' - ID 50MM   \n",
       "\n",
       "                                                PO Text  Labels  \n",
       "1101                                                NaN       1  \n",
       "1111                                                NaN       1  \n",
       "5979  *Short Description*\\nHYD HOSE,TYP:4C2AT(G2),1/...       1  \n",
       "6847  Short Description :\\nACET RED HOSE MESSERS\\n==...       1  \n",
       "7408  Short Description :\\nFUEL INLET HOSE 18'' - ID...       1  "
      ]
     },
     "execution_count": 145,
     "metadata": {},
     "output_type": "execute_result"
    }
   ],
   "source": [
    "df1.head()"
   ]
  },
  {
   "cell_type": "code",
   "execution_count": 146,
   "metadata": {},
   "outputs": [
    {
     "data": {
      "text/html": [
       "<div>\n",
       "<style>\n",
       "    .dataframe thead tr:only-child th {\n",
       "        text-align: right;\n",
       "    }\n",
       "\n",
       "    .dataframe thead th {\n",
       "        text-align: left;\n",
       "    }\n",
       "\n",
       "    .dataframe tbody tr th {\n",
       "        vertical-align: top;\n",
       "    }\n",
       "</style>\n",
       "<table border=\"1\" class=\"dataframe\">\n",
       "  <thead>\n",
       "    <tr style=\"text-align: right;\">\n",
       "      <th></th>\n",
       "      <th>Material No</th>\n",
       "      <th>Material Type</th>\n",
       "      <th>Material Group</th>\n",
       "      <th>PO Short Text</th>\n",
       "      <th>PO Text</th>\n",
       "      <th>Labels</th>\n",
       "    </tr>\n",
       "  </thead>\n",
       "  <tbody>\n",
       "    <tr>\n",
       "      <th>65</th>\n",
       "      <td>0099JD002</td>\n",
       "      <td>HIBE</td>\n",
       "      <td>229.0</td>\n",
       "      <td>FLOOD LIGHT FITTING 400 W. WITH BALLAST</td>\n",
       "      <td>NaN</td>\n",
       "      <td>2</td>\n",
       "    </tr>\n",
       "    <tr>\n",
       "      <th>70</th>\n",
       "      <td>0099JD007</td>\n",
       "      <td>HIBE</td>\n",
       "      <td>229.0</td>\n",
       "      <td>CHOKE COPPER ?FOR 40 W. TUBE LIGHT</td>\n",
       "      <td>NaN</td>\n",
       "      <td>2</td>\n",
       "    </tr>\n",
       "    <tr>\n",
       "      <th>345</th>\n",
       "      <td>0152A0064</td>\n",
       "      <td>HIBE</td>\n",
       "      <td>280.0</td>\n",
       "      <td>COVERING CAPSCITY15SQ.MT/KG; LIGHT OLIVE</td>\n",
       "      <td>NaN</td>\n",
       "      <td>2</td>\n",
       "    </tr>\n",
       "    <tr>\n",
       "      <th>723</th>\n",
       "      <td>0152AA001</td>\n",
       "      <td>HIBE</td>\n",
       "      <td>280.0</td>\n",
       "      <td>PAINT LIGHT GRAY ENEMAL</td>\n",
       "      <td>Short Description :\\nPAINT LIGHT GRAY ENEMAL\\n...</td>\n",
       "      <td>2</td>\n",
       "    </tr>\n",
       "    <tr>\n",
       "      <th>796</th>\n",
       "      <td>0152AA083</td>\n",
       "      <td>HIBE</td>\n",
       "      <td>280.0</td>\n",
       "      <td>PAINT LIGHT GREY SYN.ENAMEL</td>\n",
       "      <td>Short Description :\\nPAINT LIGHT GREY SYN.ENAM...</td>\n",
       "      <td>2</td>\n",
       "    </tr>\n",
       "  </tbody>\n",
       "</table>\n",
       "</div>"
      ],
      "text/plain": [
       "    Material No Material Type  Material Group  \\\n",
       "65    0099JD002          HIBE           229.0   \n",
       "70    0099JD007          HIBE           229.0   \n",
       "345   0152A0064          HIBE           280.0   \n",
       "723   0152AA001          HIBE           280.0   \n",
       "796   0152AA083          HIBE           280.0   \n",
       "\n",
       "                                PO Short Text  \\\n",
       "65    FLOOD LIGHT FITTING 400 W. WITH BALLAST   \n",
       "70         CHOKE COPPER ?FOR 40 W. TUBE LIGHT   \n",
       "345  COVERING CAPSCITY15SQ.MT/KG; LIGHT OLIVE   \n",
       "723                   PAINT LIGHT GRAY ENEMAL   \n",
       "796               PAINT LIGHT GREY SYN.ENAMEL   \n",
       "\n",
       "                                               PO Text  Labels  \n",
       "65                                                 NaN       2  \n",
       "70                                                 NaN       2  \n",
       "345                                                NaN       2  \n",
       "723  Short Description :\\nPAINT LIGHT GRAY ENEMAL\\n...       2  \n",
       "796  Short Description :\\nPAINT LIGHT GREY SYN.ENAM...       2  "
      ]
     },
     "execution_count": 146,
     "metadata": {},
     "output_type": "execute_result"
    }
   ],
   "source": [
    "df2.head()"
   ]
  },
  {
   "cell_type": "code",
   "execution_count": 147,
   "metadata": {},
   "outputs": [
    {
     "data": {
      "text/html": [
       "<div>\n",
       "<style>\n",
       "    .dataframe thead tr:only-child th {\n",
       "        text-align: right;\n",
       "    }\n",
       "\n",
       "    .dataframe thead th {\n",
       "        text-align: left;\n",
       "    }\n",
       "\n",
       "    .dataframe tbody tr th {\n",
       "        vertical-align: top;\n",
       "    }\n",
       "</style>\n",
       "<table border=\"1\" class=\"dataframe\">\n",
       "  <thead>\n",
       "    <tr style=\"text-align: right;\">\n",
       "      <th></th>\n",
       "      <th>Material No</th>\n",
       "      <th>Material Type</th>\n",
       "      <th>Material Group</th>\n",
       "      <th>PO Short Text</th>\n",
       "      <th>PO Text</th>\n",
       "      <th>Labels</th>\n",
       "    </tr>\n",
       "  </thead>\n",
       "  <tbody>\n",
       "    <tr>\n",
       "      <th>933</th>\n",
       "      <td>0152SS098</td>\n",
       "      <td>HIBE</td>\n",
       "      <td>280.0</td>\n",
       "      <td>METAL HALIDE LAMP</td>\n",
       "      <td>NaN</td>\n",
       "      <td>3</td>\n",
       "    </tr>\n",
       "    <tr>\n",
       "      <th>1263</th>\n",
       "      <td>0344WA002</td>\n",
       "      <td>HIBE</td>\n",
       "      <td>229.0</td>\n",
       "      <td>1000 WTS./250V. HPMV. LAMP HOLDERS</td>\n",
       "      <td>*Short Description*\\n\\n\\n\\n*Make*\\nSTANDARD\\n*...</td>\n",
       "      <td>3</td>\n",
       "    </tr>\n",
       "    <tr>\n",
       "      <th>1264</th>\n",
       "      <td>0347A0004</td>\n",
       "      <td>HIBE</td>\n",
       "      <td>229.0</td>\n",
       "      <td>HOLDER FOR ELECTRIC LAMP</td>\n",
       "      <td>Short Description :\\nHOLDER FOR ELECTRIC LAMP,...</td>\n",
       "      <td>3</td>\n",
       "    </tr>\n",
       "    <tr>\n",
       "      <th>1265</th>\n",
       "      <td>0347A0006</td>\n",
       "      <td>HIBE</td>\n",
       "      <td>229.0</td>\n",
       "      <td>HOLDER FOR ELECTRIC LAMP</td>\n",
       "      <td>Short Description :\\nHOLDER FOR ELECTRIC LAMP,...</td>\n",
       "      <td>3</td>\n",
       "    </tr>\n",
       "    <tr>\n",
       "      <th>1266</th>\n",
       "      <td>0347A0009</td>\n",
       "      <td>HIBE</td>\n",
       "      <td>229.0</td>\n",
       "      <td>HOLDER FOR ELECTRIC LAMP</td>\n",
       "      <td>Short Description :\\n SC,SKIRTED,200W\\n Make :...</td>\n",
       "      <td>3</td>\n",
       "    </tr>\n",
       "  </tbody>\n",
       "</table>\n",
       "</div>"
      ],
      "text/plain": [
       "     Material No Material Type  Material Group  \\\n",
       "933    0152SS098          HIBE           280.0   \n",
       "1263   0344WA002          HIBE           229.0   \n",
       "1264   0347A0004          HIBE           229.0   \n",
       "1265   0347A0006          HIBE           229.0   \n",
       "1266   0347A0009          HIBE           229.0   \n",
       "\n",
       "                           PO Short Text  \\\n",
       "933                    METAL HALIDE LAMP   \n",
       "1263  1000 WTS./250V. HPMV. LAMP HOLDERS   \n",
       "1264            HOLDER FOR ELECTRIC LAMP   \n",
       "1265            HOLDER FOR ELECTRIC LAMP   \n",
       "1266            HOLDER FOR ELECTRIC LAMP   \n",
       "\n",
       "                                                PO Text  Labels  \n",
       "933                                                 NaN       3  \n",
       "1263  *Short Description*\\n\\n\\n\\n*Make*\\nSTANDARD\\n*...       3  \n",
       "1264  Short Description :\\nHOLDER FOR ELECTRIC LAMP,...       3  \n",
       "1265  Short Description :\\nHOLDER FOR ELECTRIC LAMP,...       3  \n",
       "1266  Short Description :\\n SC,SKIRTED,200W\\n Make :...       3  "
      ]
     },
     "execution_count": 147,
     "metadata": {},
     "output_type": "execute_result"
    }
   ],
   "source": [
    "df3.head()"
   ]
  },
  {
   "cell_type": "code",
   "execution_count": 148,
   "metadata": {},
   "outputs": [
    {
     "data": {
      "text/html": [
       "<div>\n",
       "<style>\n",
       "    .dataframe thead tr:only-child th {\n",
       "        text-align: right;\n",
       "    }\n",
       "\n",
       "    .dataframe thead th {\n",
       "        text-align: left;\n",
       "    }\n",
       "\n",
       "    .dataframe tbody tr th {\n",
       "        vertical-align: top;\n",
       "    }\n",
       "</style>\n",
       "<table border=\"1\" class=\"dataframe\">\n",
       "  <thead>\n",
       "    <tr style=\"text-align: right;\">\n",
       "      <th></th>\n",
       "      <th>Material No</th>\n",
       "      <th>Material Type</th>\n",
       "      <th>Material Group</th>\n",
       "      <th>PO Short Text</th>\n",
       "      <th>PO Text</th>\n",
       "      <th>Labels</th>\n",
       "    </tr>\n",
       "  </thead>\n",
       "  <tbody>\n",
       "  </tbody>\n",
       "</table>\n",
       "</div>"
      ],
      "text/plain": [
       "Empty DataFrame\n",
       "Columns: [Material No, Material Type, Material Group, PO Short Text, PO Text, Labels]\n",
       "Index: []"
      ]
     },
     "execution_count": 148,
     "metadata": {},
     "output_type": "execute_result"
    }
   ],
   "source": [
    "df4.head()"
   ]
  }
 ],
 "metadata": {
  "kernelspec": {
   "display_name": "Python 2",
   "language": "python",
   "name": "python2"
  },
  "language_info": {
   "codemirror_mode": {
    "name": "ipython",
    "version": 2
   },
   "file_extension": ".py",
   "mimetype": "text/x-python",
   "name": "python",
   "nbconvert_exporter": "python",
   "pygments_lexer": "ipython2",
   "version": "2.7.13"
  }
 },
 "nbformat": 4,
 "nbformat_minor": 2
}
